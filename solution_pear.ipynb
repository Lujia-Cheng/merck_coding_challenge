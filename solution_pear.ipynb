{
 "cells": [
  {
   "cell_type": "markdown",
   "id": "8eaf749e",
   "metadata": {},
   "source": [
    "# Pear\n",
    "\n",
    "## File format\n",
    "\n",
    "| Location | Length  | Endianess | format | Value        |\n",
    "| -------- | ------- | --------- | ------ | ------------ |\n",
    "| 0x00     | 0x140   |           |        | header       |\n",
    "| 0x140    | 4 byte  | little    | int    | time[0] (ms) |\n",
    "| 0x144    | 4 byte  | little    | int    | intensity[0] |\n",
    "| 0x148    | 4 byte  | little    | int    | time[1] (ms) |\n",
    "| ...      |         |           |        |              |\n",
    "| end      | - 0x1e0 |           |        | footer       |\n",
    "\n",
    "# Process\n",
    "\n",
    "first intensity value observed line 5899, convert its time to hex and then search for it in the binary file\n"
   ]
  },
  {
   "cell_type": "code",
   "execution_count": 1,
   "id": "71a9693bb595a0b1",
   "metadata": {
    "ExecuteTime": {
     "end_time": "2024-07-27T01:20:52.344042Z",
     "start_time": "2024-07-27T01:20:50.653008Z"
    }
   },
   "outputs": [],
   "source": [
    "import struct\n",
    "import pandas as pd\n",
    "import os\n",
    "\n",
    "\n",
    "def extract_pear_to_df(input_path, header_size=0x140, footer_size=0x1e0):\n",
    "    \"\"\"\n",
    "    Extracts binary data from a file to a DataFrame.\n",
    "\n",
    "    :param input_path: Path to the binary file.\n",
    "    :param header_size: Size of the header in bytes.\n",
    "    :param footer_size: Size of the footer in bytes.\n",
    "    :return: DataFrame containing the extracted data.\n",
    "    \"\"\"\n",
    "    col0 = []\n",
    "    col1 = []\n",
    "\n",
    "    with open(input_path, 'rb') as f:\n",
    "        # Skip the header\n",
    "        f.seek(header_size)\n",
    "\n",
    "        # Calculate the size of the body (excluding header and footer)\n",
    "        file_size = os.path.getsize(input_path)\n",
    "        body_size = file_size - header_size - footer_size\n",
    "\n",
    "        # Read the body\n",
    "        bytes_read = 0\n",
    "        while bytes_read < body_size:\n",
    "            # Read 8 bytes (2 columns of 4 bytes each)\n",
    "            chunk = f.read(8)\n",
    "            if len(chunk) < 8:\n",
    "                break\n",
    "\n",
    "            # Extract values from the specified columns\n",
    "            col0_val = struct.unpack('<I', chunk[0:4])[0]\n",
    "            col1_val = struct.unpack('<I', chunk[4:8])[0]\n",
    "\n",
    "            col0.append(col0_val)\n",
    "            col1.append(col1_val)\n",
    "\n",
    "            bytes_read += 8\n",
    "\n",
    "    # Create DataFrame\n",
    "    df = pd.DataFrame({'Time (ms)': col0, 'Intensity': col1})\n",
    "    return df\n",
    "\n",
    "\n",
    "def main(input_path=None, header_size=0x140, footer_size=0x1e0):\n",
    "    \"\"\"\n",
    "    Extracts binary data from a file to a DataFrame and saves it to a CSV file.\n",
    "\n",
    "    :param input_path: Path to the binary file.\n",
    "    :param header_size: Size of the header in bytes.\n",
    "    :param footer_size: Size of the footer in bytes.\n",
    "    \"\"\"\n",
    "    if input_path is None:\n",
    "        input_path = input('Enter the path to the binary file: ')\n",
    "\n",
    "    # Extract the binary data to a DataFrame\n",
    "    df = extract_pear_to_df(input_path, header_size, footer_size)\n",
    "    # Save the DataFrame to a CSV file\n",
    "    df.to_csv(input_path + '.csv', index=False)\n",
    "\n"
   ]
  },
  {
   "cell_type": "markdown",
   "id": "4fc94fcdb4489d85",
   "metadata": {},
   "source": [
    "## Test"
   ]
  },
  {
   "cell_type": "code",
   "execution_count": 2,
   "id": "b7e6f2b9df3ed9b8",
   "metadata": {
    "ExecuteTime": {
     "end_time": "2024-07-27T01:20:54.482830Z",
     "start_time": "2024-07-27T01:20:54.447045Z"
    }
   },
   "outputs": [
    {
     "name": "stdout",
     "output_type": "stream",
     "text": [
      "DataFrames are equal: True\n"
     ]
    }
   ],
   "source": [
    "# Set the header and footer size\n",
    "header_size = 0x140\n",
    "footer_size = 0x1e0\n",
    "file_path = './pear/sample/pear'\n",
    "result = extract_pear_to_df(file_path, header_size, footer_size)\n",
    "\n",
    "# Read the CSV file into a DataFrame\n",
    "csv_df = pd.read_csv('./pear/sample/pear.csv')\n",
    "\n",
    "# Compare the DataFrames\n",
    "print(\"DataFrames are equal:\", result.equals(csv_df))"
   ]
  },
  {
   "cell_type": "markdown",
   "id": "beb367df",
   "metadata": {},
   "source": [
    "## Decode the binary files in the problem folders"
   ]
  },
  {
   "cell_type": "code",
   "execution_count": null,
   "id": "5d8cb7c0",
   "metadata": {},
   "outputs": [],
   "source": [
    "file_paths = [\n",
    "    # \"./pear/problem1/pear\",\n",
    "    # \"./pear/problem2/pear\",\n",
    "    # \"./pear/problem3/pear\",\n",
    "    \"./pear/sample/pear\", # git diff\n",
    "]\n",
    "\n",
    "for p in file_paths:\n",
    "    main(p)"
   ]
  }
 ],
 "metadata": {
  "kernelspec": {
   "display_name": "Python 3",
   "language": "python",
   "name": "python3"
  },
  "language_info": {
   "codemirror_mode": {
    "name": "ipython",
    "version": 3
   },
   "file_extension": ".py",
   "mimetype": "text/x-python",
   "name": "python",
   "nbconvert_exporter": "python",
   "pygments_lexer": "ipython3",
   "version": "3.12.4"
  }
 },
 "nbformat": 4,
 "nbformat_minor": 5
}
